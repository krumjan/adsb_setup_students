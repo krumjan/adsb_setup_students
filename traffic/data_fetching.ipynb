{
 "cells": [
  {
   "cell_type": "markdown",
   "metadata": {},
   "source": [
    "## Data fetching\n",
    "\n",
    "The following cells contain sample code to retrieve data from the OpenSky network using the Traffic Python library. Note that any combination of parameters in the following cells can also be used together. Further details can be found in the official Traffic user manual on this [website](https://traffic-viz.github.io/data_sources/opensky_db.html)."
   ]
  },
  {
   "cell_type": "markdown",
   "metadata": {},
   "source": [
    "#### Download data for all flights inside a bounding box"
   ]
  },
  {
   "cell_type": "code",
   "execution_count": null,
   "metadata": {},
   "outputs": [],
   "source": [
    "from traffic.data import opensky\n",
    "\n",
    "t = opensky.history(\n",
    "    start=\"2021-01-01 00:00\",  # starting timestamp for the query\n",
    "    stop=\"2021-01-02 00:00\",  # end timestamp for the query\n",
    "    bounds=[\n",
    "        7.32,  # western side of bounding box\n",
    "        46.62,  # southern side of bounding box\n",
    "        9.77,  # eastern side of bounding box\n",
    "        48.29,  # northern side of bounding box\n",
    "    ],\n",
    ")"
   ]
  },
  {
   "cell_type": "markdown",
   "metadata": {},
   "source": [
    "#### Download data for all flights on a specific route / at a specific airport"
   ]
  },
  {
   "cell_type": "code",
   "execution_count": null,
   "metadata": {},
   "outputs": [],
   "source": [
    "from traffic.data import opensky\n",
    "\n",
    "t = opensky.history(\n",
    "    start=\"2021-01-01 00:00\",  # starting timestamp for the query\n",
    "    stop=\"2021-01-02 00:00\",  # end timestamp for the query\n",
    "    departure_airport=\"EDDM\",  # Departure airport ICAO code\n",
    "    arrival_airport=\"LSZH\",  # Arrival airport ICAO code\n",
    ")\n",
    "\n",
    "# If all flights (arrivals and departures) at one airport are needed, it is also\n",
    "# possible to use the airport parameter. e.g. for all flights in and out of Zurich\n",
    "\n",
    "t = opensky.history(\n",
    "    start=\"2021-01-01 00:00\",  # starting timestamp for the query\n",
    "    stop=\"2021-01-02 00:00\",  # end timestamp for the query\n",
    "    airport=\"LSZH\",  # Departure or arrival airport ICAO code\n",
    ")"
   ]
  },
  {
   "cell_type": "markdown",
   "metadata": {},
   "source": [
    "#### Download data for a specific aircraft (ICAO24 identifier)"
   ]
  },
  {
   "cell_type": "code",
   "execution_count": null,
   "metadata": {},
   "outputs": [],
   "source": [
    "from traffic.data import opensky\n",
    "\n",
    "t = opensky.history(\n",
    "    start=\"2021-01-01 00:00\",  # starting timestamp for the query\n",
    "    stop=\"2021-01-02 00:00\",  # end timestamp for the query\n",
    "    icao24=\"4B194D\",  # ICAO24 address of the aircraft\n",
    ")\n",
    "\n",
    "# Instead of just one icao24, it is also possible to pass a list of icao24 addresses to\n",
    "# the icao24 parameter. e.g. icao24=[\"4B194D\", \"4B194E\", \"4B194F\"]"
   ]
  },
  {
   "cell_type": "markdown",
   "metadata": {},
   "source": [
    "#### Download data for a specific flight (Callsign)"
   ]
  },
  {
   "cell_type": "code",
   "execution_count": null,
   "metadata": {},
   "outputs": [],
   "source": [
    "from traffic.data import opensky\n",
    "\n",
    "t = opensky.history(\n",
    "    start=\"2021-01-01 00:00\",  # starting timestamp for the query\n",
    "    stop=\"2021-01-02 00:00\",  # end timestamp for the query\n",
    "    callsign=\"SWR139K\",  # callsign of the flight\n",
    ")\n",
    "\n",
    "# Instead of just one callsign, it is also possible to pass a list of callsigns to\n",
    "# the callsign parameter. e.g. icao24=[\"SWR139K\", \"SWR105Z\"]"
   ]
  }
 ],
 "metadata": {
  "kernelspec": {
   "display_name": ".venv",
   "language": "python",
   "name": "python3"
  },
  "language_info": {
   "codemirror_mode": {
    "name": "ipython",
    "version": 3
   },
   "file_extension": ".py",
   "mimetype": "text/x-python",
   "name": "python",
   "nbconvert_exporter": "python",
   "pygments_lexer": "ipython3",
   "version": "3.11.4"
  }
 },
 "nbformat": 4,
 "nbformat_minor": 2
}
